{
 "cells": [
  {
   "cell_type": "code",
   "execution_count": 1,
   "metadata": {
    "slideshow": {
     "slide_type": "notes"
    }
   },
   "outputs": [],
   "source": [
    "import spotipy\n",
    "from spotipy.oauth2 import SpotifyOAuth\n",
    "import json\n"
   ]
  },
  {
   "cell_type": "code",
   "execution_count": 2,
   "metadata": {},
   "outputs": [],
   "source": [
    "\n",
    "client_id=\"<client-id>\"\n",
    "client_secret=\"<secret-key>\"\n",
    "redirect_uri=\"http://localhost:6060/callback\"\n",
    "scope=\"user-follow-read\""
   ]
  },
  {
   "cell_type": "code",
   "execution_count": null,
   "metadata": {},
   "outputs": [],
   "source": [
    "sp=spotipy.Spotify(auth_manager=SpotifyOAuth(client_id=client_id, client_secret=client_secret, redirect_uri=redirect_uri, scope=scope))\n",
    "#print(sp)\n",
    "artists=sp.current_user_followed_artists()\n",
    "print(artists)"
   ]
  },
  {
   "cell_type": "code",
   "execution_count": 4,
   "metadata": {},
   "outputs": [],
   "source": [
    "\n",
    "with open('followed_artists.json', 'a', encoding='utf-8') as file:\n",
    "    artists=sp.current_user_followed_artists()\n",
    "    artists_info=artists['artists']\n",
    "    json.dump(artists_info, file, ensure_ascii=False)\n",
    "    file.write(\"\\n\")\n"
   ]
  },
  {
   "cell_type": "code",
   "execution_count": 5,
   "metadata": {},
   "outputs": [
    {
     "name": "stdout",
     "output_type": "stream",
     "text": [
      "Artist 1: Maroon 5\n",
      "Artist 2: Taylor Swift\n",
      "Artist 3: Selena Gomez\n",
      "Artist 4: Shakira\n",
      "Artist 5: Ellie Goulding\n",
      "Artist 6: Aimer\n",
      "Artist 7: LiSA\n",
      "Artist 8: SUGA\n",
      "Artist 9: Nicki Minaj\n",
      "Artist 10: Wiz Khalifa\n",
      "Artist 11: David Guetta\n",
      "Artist 12: Maria Becerra\n",
      "Artist 13: Olivia Rodrigo\n",
      "Artist 14: Future\n",
      "Artist 15: AURORA\n",
      "Artist 16: The Weeknd\n",
      "Artist 17: Christina Aguilera\n",
      "Artist 18: Justin Bieber\n",
      "Artist 19: Anne-Marie\n",
      "Artist 20: Post Malone\n"
     ]
    }
   ],
   "source": [
    "count=0\n",
    "for artist in artists_info['items']:\n",
    "    artist_name=artist['name']\n",
    "    count+=1\n",
    "    print(f'Artist {count}: {artist_name}')"
   ]
  }
 ],
 "metadata": {
  "kernelspec": {
   "display_name": "Python 3 (ipykernel)",
   "language": "python",
   "name": "python3"
  },
  "language_info": {
   "codemirror_mode": {
    "name": "ipython",
    "version": 3
   },
   "file_extension": ".py",
   "mimetype": "text/x-python",
   "name": "python",
   "nbconvert_exporter": "python",
   "pygments_lexer": "ipython3",
   "version": "3.11.9"
  }
 },
 "nbformat": 4,
 "nbformat_minor": 4
}
