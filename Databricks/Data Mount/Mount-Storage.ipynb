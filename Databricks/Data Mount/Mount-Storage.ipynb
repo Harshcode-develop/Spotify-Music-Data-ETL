{
 "cells": [
  {
   "cell_type": "code",
   "execution_count": null,
   "metadata": {
    "application/vnd.databricks.v1+cell": {
     "cellMetadata": {},
     "inputWidgets": {},
     "nuid": "0c6ac5b5-dd03-4bd5-819c-98f3abbb5bc3",
     "showTitle": false,
     "title": ""
    }
   },
   "outputs": [],
   "source": [
    "#Application (client) ID = <appid>\n",
    "\n",
    "#Object ID = <objects-id>\n",
    "\n",
    "#Directory (tenant) ID = <id>\n",
    "\n",
    "#secret : <secret-key>"
   ]
  },
  {
   "cell_type": "code",
   "execution_count": null,
   "metadata": {
    "application/vnd.databricks.v1+cell": {
     "cellMetadata": {
      "byteLimit": 2048000,
      "rowLimit": 10000
     },
     "inputWidgets": {},
     "nuid": "0809d6e5-b37e-4c4f-b9e7-4fb45aaa2781",
     "showTitle": false,
     "title": ""
    }
   },
   "outputs": [
    {
     "data": {
      "text/plain": [
       "True"
      ]
     },
     "execution_count": 1,
     "metadata": {},
     "output_type": "execute_result"
    }
   ],
   "source": [
    "configs = {\"fs.azure.account.auth.type\": \"OAuth\",\n",
    "          \"fs.azure.account.oauth.provider.type\": \"org.apache.hadoop.fs.azurebfs.oauth2.ClientCredsTokenProvider\",\n",
    "          \"fs.azure.account.oauth2.client.id\": \"<client-id>\",\n",
    "          \"fs.azure.account.oauth2.client.secret\": \"<secret-key>\",\n",
    "          \"fs.azure.account.oauth2.client.endpoint\": \"https://login.microsoftonline.com/18050fac-322e-47e7-a59e-9a5c2b3df7e5/oauth2/token\"}\n",
    "\n",
    "# Optionally, you can add <directory-name> to the source URI of your mount point.\n",
    "dbutils.fs.mount(\n",
    "  source = \"abfss://rawdata@musicetldatalake2.dfs.core.windows.net/\",\n",
    "  mount_point = \"/mnt/rawdata\",\n",
    "  extra_configs = configs)"
   ]
  },
  {
   "cell_type": "code",
   "execution_count": null,
   "metadata": {
    "application/vnd.databricks.v1+cell": {
     "cellMetadata": {
      "byteLimit": 2048000,
      "rowLimit": 10000
     },
     "inputWidgets": {},
     "nuid": "6fdb1f13-d80b-456c-a9ad-7c510478ae3a",
     "showTitle": false,
     "title": ""
    }
   },
   "outputs": [
    {
     "data": {
      "text/plain": [
       "[FileInfo(path='dbfs:/mnt/rawdata/followed_artists_data/', name='followed_artists_data/', size=0, modificationTime=1723643847000)]"
      ]
     },
     "execution_count": 2,
     "metadata": {},
     "output_type": "execute_result"
    }
   ],
   "source": [
    "dbutils.fs.ls(\"/mnt/rawdata\")"
   ]
  },
  {
   "cell_type": "code",
   "execution_count": null,
   "metadata": {
    "application/vnd.databricks.v1+cell": {
     "cellMetadata": {
      "byteLimit": 2048000,
      "rowLimit": 10000
     },
     "inputWidgets": {},
     "nuid": "be08fa8d-a28a-49a2-b448-dca400b42a68",
     "showTitle": false,
     "title": ""
    }
   },
   "outputs": [
    {
     "data": {
      "text/plain": [
       "True"
      ]
     },
     "execution_count": 3,
     "metadata": {},
     "output_type": "execute_result"
    }
   ],
   "source": [
    "dbutils.fs.mount(\n",
    "  source = \"abfss://processed-data@musicetldatalake2.dfs.core.windows.net/\",\n",
    "  mount_point = \"/mnt/processed-data\",\n",
    "  extra_configs = configs)"
   ]
  },
  {
   "cell_type": "code",
   "execution_count": null,
   "metadata": {
    "application/vnd.databricks.v1+cell": {
     "cellMetadata": {
      "byteLimit": 2048000,
      "rowLimit": 10000
     },
     "inputWidgets": {},
     "nuid": "4a9b730d-7096-4a6e-8e88-99cc323d0f53",
     "showTitle": false,
     "title": ""
    }
   },
   "outputs": [
    {
     "data": {
      "text/plain": [
       "[FileInfo(path='dbfs:/mnt/processed-data/processed-artists-data/', name='processed-artists-data/', size=0, modificationTime=1723656350000),\n",
       " FileInfo(path='dbfs:/mnt/processed-data/processed-artists_genre-data/', name='processed-artists_genre-data/', size=0, modificationTime=1723656391000),\n",
       " FileInfo(path='dbfs:/mnt/processed-data/processed-genre-data/', name='processed-genre-data/', size=0, modificationTime=1723656322000)]"
      ]
     },
     "execution_count": 4,
     "metadata": {},
     "output_type": "execute_result"
    }
   ],
   "source": [
    "dbutils.fs.ls(\"/mnt/processed-data\")"
   ]
  },
  {
   "cell_type": "code",
   "execution_count": null,
   "metadata": {
    "application/vnd.databricks.v1+cell": {
     "cellMetadata": {
      "byteLimit": 2048000,
      "rowLimit": 10000
     },
     "inputWidgets": {},
     "nuid": "2634b7e5-57cf-4add-aab8-3ec6489afac7",
     "showTitle": false,
     "title": ""
    }
   },
   "outputs": [
    {
     "data": {
      "text/plain": [
       "True"
      ]
     },
     "execution_count": 5,
     "metadata": {},
     "output_type": "execute_result"
    }
   ],
   "source": [
    "blob_storage_account=\"spotifydatamusic\"\n",
    "blob_container=\"incoming-artist-data\"\n",
    "storage_key=\"<storage-key>\"\n",
    "#mount blob storage container\n",
    "dbutils.fs.mount(\n",
    "    source=f\"wasbs://{blob_container}@{blob_storage_account}.blob.core.windows.net/\",\n",
    "    mount_point=\"/mnt/incoming-artist-data\",\n",
    "    extra_configs={'fs.azure.sas.'+blob_container+'.'+blob_storage_account+'.blob.core.windows.net':storage_key} \n",
    ")"
   ]
  }
 ],
 "metadata": {
  "application/vnd.databricks.v1+notebook": {
   "dashboards": [],
   "environmentMetadata": null,
   "language": "python",
   "notebookMetadata": {
    "pythonIndentUnit": 4
   },
   "notebookName": "Mount-Storage",
   "widgets": {}
  },
  "language_info": {
   "name": "python"
  }
 },
 "nbformat": 4,
 "nbformat_minor": 0
}
