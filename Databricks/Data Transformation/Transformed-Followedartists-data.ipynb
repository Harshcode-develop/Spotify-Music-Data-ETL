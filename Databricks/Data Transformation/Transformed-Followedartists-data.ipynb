{
 "cells": [
  {
   "cell_type": "code",
   "execution_count": null,
   "metadata": {
    "application/vnd.databricks.v1+cell": {
     "cellMetadata": {
      "byteLimit": 2048000,
      "rowLimit": 10000
     },
     "inputWidgets": {},
     "nuid": "532609fd-e741-4e55-982f-bb87cc6a950b",
     "showTitle": false,
     "title": ""
    }
   },
   "outputs": [],
   "source": [
    "import json\n",
    "from pyspark.sql import Row\n",
    "from pyspark.sql.types import StructType, StructField, StringType, IntegerType\n",
    "from pyspark.sql.functions import col"
   ]
  },
  {
   "cell_type": "code",
   "execution_count": null,
   "metadata": {
    "application/vnd.databricks.v1+cell": {
     "cellMetadata": {
      "byteLimit": 2048000,
      "rowLimit": 10000
     },
     "inputWidgets": {},
     "nuid": "f0bb9c7a-4957-4cce-83c8-9f9661101346",
     "showTitle": false,
     "title": ""
    }
   },
   "outputs": [],
   "source": [
    "artist_schema = StructType([\n",
    "    StructField(\"ArtistID\", StringType(), True),\n",
    "    StructField(\"Name\", StringType(), True),\n",
    "    StructField(\"Followers\", IntegerType(), True)\n",
    "])\n",
    "\n",
    "genre_schema = StructType([\n",
    "    StructField(\"GenreID\", IntegerType(), True),\n",
    "    StructField('Name', StringType(), True)\n",
    "])\n",
    "\n",
    "artist_genre_schema = StructType([\n",
    "    StructField(\"ID\", IntegerType(), True),\n",
    "    StructField(\"ArtistID\", StringType(), True),\n",
    "    StructField(\"GenreID\", IntegerType(), True)\n",
    "])\n",
    "\n",
    "df_artist = spark.createDataFrame([], schema=artist_schema)\n",
    "df_genre = spark.createDataFrame([], schema = genre_schema)\n",
    "df_artist_genre = spark.createDataFrame([], schema = artist_genre_schema)\n",
    "\n"
   ]
  },
  {
   "cell_type": "code",
   "execution_count": null,
   "metadata": {
    "application/vnd.databricks.v1+cell": {
     "cellMetadata": {
      "byteLimit": 2048000,
      "rowLimit": 10000
     },
     "inputWidgets": {},
     "nuid": "e9ae06a9-2e3b-4bb2-8dfd-21c3f321d449",
     "showTitle": false,
     "title": ""
    }
   },
   "outputs": [],
   "source": [
    "# Read data from DBFS\n",
    "file_path = \"/mnt/rawdata/followed_artists_data/followed_artists.json\"\n",
    "data = spark.read.text(file_path)"
   ]
  },
  {
   "cell_type": "code",
   "execution_count": null,
   "metadata": {
    "application/vnd.databricks.v1+cell": {
     "cellMetadata": {
      "byteLimit": 2048000,
      "rowLimit": 10000
     },
     "inputWidgets": {},
     "nuid": "fda9546f-c216-4b0b-9acc-9e3b60331a61",
     "showTitle": false,
     "title": ""
    }
   },
   "outputs": [
    {
     "name": "stdout",
     "output_type": "stream",
     "text": [
      "1:Maroon 5\n",
      "2:Taylor Swift\n",
      "3:Selena Gomez\n",
      "4:Shakira\n",
      "5:Ellie Goulding\n",
      "6:Aimer\n",
      "7:LiSA\n",
      "8:SUGA\n",
      "9:Nicki Minaj\n",
      "10:Wiz Khalifa\n",
      "11:David Guetta\n",
      "12:Maria Becerra\n",
      "13:Olivia Rodrigo\n",
      "14:Future\n",
      "15:AURORA\n",
      "16:The Weeknd\n",
      "17:Christina Aguilera\n",
      "18:Justin Bieber\n",
      "19:Anne-Marie\n",
      "20:Post Malone\n",
      "21:Halsey\n",
      "22:Oasis\n",
      "23:Stray Kids\n",
      "24:The Kid LAROI\n",
      "25:Ice Spice\n",
      "26:BTS\n",
      "27:TheFatRat\n",
      "28:Drake\n",
      "29:Michael Jackson\n",
      "30:Fossils\n",
      "31:Disney\n",
      "32:NiziU\n",
      "33:BLACKPINK\n",
      "34:milet\n",
      "35:Ericovich\n",
      "36:Fall Out Boy\n",
      "37:Luis Fonsi\n",
      "38:Daddy Yankee\n",
      "39:Arijit Singh\n",
      "40:Adam Levine\n",
      "41:Adele\n",
      "42:Mariah Carey\n",
      "43:Cardi B\n",
      "44:Camila Cabello\n",
      "45:Ava Max\n",
      "46:Gracie Abrams\n",
      "47:Glass Animals\n",
      "48:Imagine Dragons\n",
      "49:DJ Snake\n",
      "50:OneRepublic\n",
      "-----------------------------------------------------------------------\n"
     ]
    }
   ],
   "source": [
    "max_genre_id = df_genre.agg({\"GenreID\": \"max\"}).collect()[0][0] or 0\n",
    "\n",
    "artist_count = 0\n",
    "genre_data = []\n",
    "\n",
    "\n",
    "# Extract text content and collect the data\n",
    "lines = data.rdd.map(lambda r: r.value).collect()\n",
    "for line in lines:\n",
    "    # Load JSON data from the line\n",
    "    all_artists = json.loads(line)\n",
    "\n",
    "    # Iterate over each artist in the loaded data\n",
    "    for artist in all_artists['items']:\n",
    "        artist_count += 1\n",
    "        \n",
    "        artist_name = artist['name']\n",
    "        artist_id = artist['id']\n",
    "        artist_followers = int(artist['followers']['total'])\n",
    "        # Create a Spark DataFrame Row\n",
    "        artist_row = Row(ArtistID=artist_id, Name=artist_name, Followers=artist_followers)\n",
    "\n",
    "        # Append the Row to the artist DataFrame\n",
    "        df_artist = df_artist.union(spark.createDataFrame([artist_row], schema=artist_schema))\n",
    "        # Extract artist genres\n",
    "        artist_genre = artist['genres']\n",
    "        #unique_genres.update(artist_genre)\n",
    "        print(f\"{artist_count}:{artist_name}\")\n",
    "        \n",
    "        # Process genres using Spark operations\n",
    "        for genre_name in artist_genre:\n",
    "            genre_data.append(genre_name)      \n",
    "    \n",
    "    \n",
    "    print('-----------------------------------------------------------------------')"
   ]
  },
  {
   "cell_type": "code",
   "execution_count": null,
   "metadata": {
    "application/vnd.databricks.v1+cell": {
     "cellMetadata": {
      "byteLimit": 2048000,
      "rowLimit": 10000
     },
     "inputWidgets": {},
     "nuid": "88aa109f-4937-46c3-91c3-39986d31cb46",
     "showTitle": false,
     "title": ""
    }
   },
   "outputs": [],
   "source": [
    "\n",
    "distinct_genre_data = set(genre_data)\n",
    "genre_id_mapping = {genre: i + 1 for i, genre in enumerate(distinct_genre_data)}\n",
    "genre_rows = [Row(GenreID=genre_id, Name=genre) for genre, genre_id in genre_id_mapping.items()]\n",
    "df_genre = df_genre.union(spark.createDataFrame(genre_rows, schema=genre_schema))\n"
   ]
  },
  {
   "cell_type": "code",
   "execution_count": null,
   "metadata": {
    "application/vnd.databricks.v1+cell": {
     "cellMetadata": {
      "byteLimit": 2048000,
      "rowLimit": 10000
     },
     "inputWidgets": {},
     "nuid": "24370313-d1a1-47a7-a1c6-c9f4a332479b",
     "showTitle": false,
     "title": ""
    }
   },
   "outputs": [
    {
     "name": "stdout",
     "output_type": "stream",
     "text": [
      "+-------+------------------+\n",
      "|GenreID|              Name|\n",
      "+-------+------------------+\n",
      "|      1|         gauze pop|\n",
      "|      2|         j-poprock|\n",
      "|      3|australian hip hop|\n",
      "|      4|        beatlesque|\n",
      "|      5|    queens hip hop|\n",
      "|      6|     latin hip hop|\n",
      "|      7|        piano rock|\n",
      "|      8|               edm|\n",
      "|      9|  modern bollywood|\n",
      "|     10|      british soul|\n",
      "|     11|              trap|\n",
      "|     12|  deep talent show|\n",
      "|     13|             k-pop|\n",
      "|     14|             j-pop|\n",
      "|     15|        pov: indie|\n",
      "|     16|     colombian pop|\n",
      "|     17|       trap latino|\n",
      "|     18|         pop dance|\n",
      "|     19|           traprun|\n",
      "|     20|          pop punk|\n",
      "+-------+------------------+\n",
      "only showing top 20 rows\n",
      "\n",
      "Number of rows in df_genre: 73\n"
     ]
    }
   ],
   "source": [
    "df_genre.show()\n",
    "row_count = df_genre.count()\n",
    "print(f\"Number of rows in df_genre: {row_count}\")"
   ]
  },
  {
   "cell_type": "code",
   "execution_count": null,
   "metadata": {
    "application/vnd.databricks.v1+cell": {
     "cellMetadata": {
      "byteLimit": 2048000,
      "rowLimit": 10000
     },
     "inputWidgets": {},
     "nuid": "4c4f586e-f452-45d2-860f-97c2f7c2557d",
     "showTitle": false,
     "title": ""
    }
   },
   "outputs": [
    {
     "name": "stdout",
     "output_type": "stream",
     "text": [
      "1:Maroon 5\n",
      "Genres:['pop']\n",
      "Updating Genres...\n",
      "-----------------------------------------------------------------------\n",
      "2:Taylor Swift\n",
      "Genres:['pop']\n",
      "Updating Genres...\n",
      "-----------------------------------------------------------------------\n",
      "3:Selena Gomez\n",
      "Genres:['pop', 'post-teen pop']\n",
      "Updating Genres...\n",
      "-----------------------------------------------------------------------\n",
      "4:Shakira\n",
      "Genres:['colombian pop', 'dance pop', 'latin pop', 'pop']\n",
      "Updating Genres...\n",
      "-----------------------------------------------------------------------\n",
      "5:Ellie Goulding\n",
      "Genres:['indietronica', 'metropopolis', 'pop', 'uk pop']\n",
      "Updating Genres...\n",
      "-----------------------------------------------------------------------\n",
      "6:Aimer\n",
      "Genres:['anime', 'anime rock', 'j-pixie', 'j-pop', 'j-poprock']\n",
      "Updating Genres...\n",
      "-----------------------------------------------------------------------\n",
      "7:LiSA\n",
      "Genres:['anime', 'anime rock', 'j-pixie', 'j-pop']\n",
      "Updating Genres...\n",
      "-----------------------------------------------------------------------\n",
      "8:SUGA\n",
      "Genres:['k-pop']\n",
      "Updating Genres...\n",
      "-----------------------------------------------------------------------\n",
      "9:Nicki Minaj\n",
      "Genres:['hip pop', 'pop', 'queens hip hop', 'rap']\n",
      "Updating Genres...\n",
      "-----------------------------------------------------------------------\n",
      "10:Wiz Khalifa\n",
      "Genres:['hip hop', 'pittsburgh rap', 'pop rap', 'rap', 'southern hip hop', 'trap']\n",
      "Updating Genres...\n",
      "-----------------------------------------------------------------------\n",
      "11:David Guetta\n",
      "Genres:['big room', 'dance pop', 'edm', 'pop', 'pop dance']\n",
      "Updating Genres...\n",
      "-----------------------------------------------------------------------\n",
      "12:Maria Becerra\n",
      "Genres:['pop argentino', 'urbano latino']\n",
      "Updating Genres...\n",
      "-----------------------------------------------------------------------\n",
      "13:Olivia Rodrigo\n",
      "Genres:['pop']\n",
      "Updating Genres...\n",
      "-----------------------------------------------------------------------\n",
      "14:Future\n",
      "Genres:['atl hip hop', 'hip hop', 'rap', 'southern hip hop', 'trap']\n",
      "Updating Genres...\n",
      "-----------------------------------------------------------------------\n",
      "15:AURORA\n",
      "Genres:['art pop', 'norwegian pop']\n",
      "Updating Genres...\n",
      "-----------------------------------------------------------------------\n",
      "16:The Weeknd\n",
      "Genres:['canadian contemporary r&b', 'canadian pop', 'pop']\n",
      "Updating Genres...\n",
      "-----------------------------------------------------------------------\n",
      "17:Christina Aguilera\n",
      "Genres:['dance pop', 'pop']\n",
      "Updating Genres...\n",
      "-----------------------------------------------------------------------\n",
      "18:Justin Bieber\n",
      "Genres:['canadian pop', 'pop']\n",
      "Updating Genres...\n",
      "-----------------------------------------------------------------------\n",
      "19:Anne-Marie\n",
      "Genres:['pop']\n",
      "Updating Genres...\n",
      "-----------------------------------------------------------------------\n",
      "20:Post Malone\n",
      "Genres:['dfw rap', 'melodic rap', 'pop', 'rap']\n",
      "Updating Genres...\n",
      "-----------------------------------------------------------------------\n",
      "21:Halsey\n",
      "Genres:['electropop', 'etherpop', 'indie poptimism', 'pop']\n",
      "Updating Genres...\n",
      "-----------------------------------------------------------------------\n",
      "22:Oasis\n",
      "Genres:['beatlesque', 'britpop', 'madchester', 'permanent wave', 'rock']\n",
      "Updating Genres...\n",
      "-----------------------------------------------------------------------\n",
      "23:Stray Kids\n",
      "Genres:['k-pop', 'k-pop boy group', 'pop']\n",
      "Updating Genres...\n",
      "-----------------------------------------------------------------------\n",
      "24:The Kid LAROI\n",
      "Genres:['australian hip hop']\n",
      "Updating Genres...\n",
      "-----------------------------------------------------------------------\n",
      "25:Ice Spice\n",
      "Genres:['bronx drill']\n",
      "Updating Genres...\n",
      "-----------------------------------------------------------------------\n",
      "26:BTS\n",
      "Genres:['k-pop', 'k-pop boy group', 'pop']\n",
      "Updating Genres...\n",
      "-----------------------------------------------------------------------\n",
      "27:TheFatRat\n",
      "Genres:['speedrun']\n",
      "Updating Genres...\n",
      "-----------------------------------------------------------------------\n",
      "28:Drake\n",
      "Genres:['canadian hip hop', 'canadian pop', 'hip hop', 'pop rap', 'rap']\n",
      "Updating Genres...\n",
      "-----------------------------------------------------------------------\n",
      "29:Michael Jackson\n",
      "Genres:['r&b', 'soul']\n",
      "Updating Genres...\n",
      "-----------------------------------------------------------------------\n",
      "30:Fossils\n",
      "Genres:['indian folk', 'indian rock', 'kolkata indie']\n",
      "Updating Genres...\n",
      "-----------------------------------------------------------------------\n",
      "31:Disney\n",
      "Genres:[]\n",
      "Updating Genres...\n",
      "-----------------------------------------------------------------------\n",
      "32:NiziU\n",
      "Genres:['j-pop']\n",
      "Updating Genres...\n",
      "-----------------------------------------------------------------------\n",
      "33:BLACKPINK\n",
      "Genres:['k-pop', 'k-pop girl group', 'pop']\n",
      "Updating Genres...\n",
      "-----------------------------------------------------------------------\n",
      "34:milet\n",
      "Genres:['j-pop']\n",
      "Updating Genres...\n",
      "-----------------------------------------------------------------------\n",
      "35:Ericovich\n",
      "Genres:['traprun']\n",
      "Updating Genres...\n",
      "-----------------------------------------------------------------------\n",
      "36:Fall Out Boy\n",
      "Genres:['emo', 'modern rock', 'pop', 'pop punk', 'rock']\n",
      "Updating Genres...\n",
      "-----------------------------------------------------------------------\n",
      "37:Luis Fonsi\n",
      "Genres:['latin pop', 'puerto rican pop']\n",
      "Updating Genres...\n",
      "-----------------------------------------------------------------------\n",
      "38:Daddy Yankee\n",
      "Genres:['latin hip hop', 'reggaeton', 'trap latino', 'urbano latino']\n",
      "Updating Genres...\n",
      "-----------------------------------------------------------------------\n",
      "39:Arijit Singh\n",
      "Genres:['filmi', 'modern bollywood']\n",
      "Updating Genres...\n",
      "-----------------------------------------------------------------------\n",
      "40:Adam Levine\n",
      "Genres:['deep talent show']\n",
      "Updating Genres...\n",
      "-----------------------------------------------------------------------\n",
      "41:Adele\n",
      "Genres:['british soul', 'pop', 'pop soul', 'uk pop']\n",
      "Updating Genres...\n",
      "-----------------------------------------------------------------------\n",
      "42:Mariah Carey\n",
      "Genres:['dance pop', 'pop', 'urban contemporary']\n",
      "Updating Genres...\n",
      "-----------------------------------------------------------------------\n",
      "43:Cardi B\n",
      "Genres:['pop', 'rap']\n",
      "Updating Genres...\n",
      "-----------------------------------------------------------------------\n",
      "44:Camila Cabello\n",
      "Genres:['dance pop', 'pop']\n",
      "Updating Genres...\n",
      "-----------------------------------------------------------------------\n",
      "45:Ava Max\n",
      "Genres:['pop']\n",
      "Updating Genres...\n",
      "-----------------------------------------------------------------------\n",
      "46:Gracie Abrams\n",
      "Genres:['alt z']\n",
      "Updating Genres...\n",
      "-----------------------------------------------------------------------\n",
      "47:Glass Animals\n",
      "Genres:['gauze pop', 'indietronica', 'modern rock', 'pov: indie', 'shiver pop']\n",
      "Updating Genres...\n",
      "-----------------------------------------------------------------------\n",
      "48:Imagine Dragons\n",
      "Genres:['modern rock', 'pop', 'rock']\n",
      "Updating Genres...\n",
      "-----------------------------------------------------------------------\n",
      "49:DJ Snake\n",
      "Genres:['dance pop', 'edm', 'electronic trap', 'pop', 'pop dance']\n",
      "Updating Genres...\n",
      "-----------------------------------------------------------------------\n",
      "50:OneRepublic\n",
      "Genres:['piano rock', 'pop']\n",
      "Updating Genres...\n",
      "-----------------------------------------------------------------------\n",
      "+---+--------------------+-------+\n",
      "| ID|            ArtistID|GenreID|\n",
      "+---+--------------------+-------+\n",
      "|  1|04gDigrS5kc9YWfZH...|     65|\n",
      "|  2|06HL4z0CvFAxyc27G...|     65|\n",
      "|  3|0C8ZW7ezQVs4URX5a...|     65|\n",
      "|  4|0C8ZW7ezQVs4URX5a...|     73|\n",
      "|  5|0EmeFodog0BfCgMzA...|     16|\n",
      "|  6|0EmeFodog0BfCgMzA...|     34|\n",
      "|  7|0EmeFodog0BfCgMzA...|     23|\n",
      "|  8|0EmeFodog0BfCgMzA...|     65|\n",
      "|  9|0X2BH1fck6amBIoJh...|     38|\n",
      "| 10|0X2BH1fck6amBIoJh...|     22|\n",
      "| 11|0X2BH1fck6amBIoJh...|     65|\n",
      "| 12|0X2BH1fck6amBIoJh...|     24|\n",
      "| 13|0bAsR2unSRpn6BQPE...|     55|\n",
      "| 14|0bAsR2unSRpn6BQPE...|     35|\n",
      "| 15|0bAsR2unSRpn6BQPE...|     67|\n",
      "| 16|0bAsR2unSRpn6BQPE...|     14|\n",
      "| 17|0bAsR2unSRpn6BQPE...|      2|\n",
      "| 18|0blbVefuxOGltDBa0...|     55|\n",
      "| 19|0blbVefuxOGltDBa0...|     35|\n",
      "| 20|0blbVefuxOGltDBa0...|     67|\n",
      "+---+--------------------+-------+\n",
      "only showing top 20 rows\n",
      "\n",
      "Number of rows in df_artist_genre: 135\n"
     ]
    }
   ],
   "source": [
    "artist_count = 0\n",
    "max_artist_genre_id = df_artist_genre.agg({\"ID\": \"max\"}).collect()[0][0] or 0\n",
    "\n",
    "artist_genre_data = []\n",
    "for line in lines:\n",
    "    all_artists = json.loads(line)\n",
    "    \n",
    "    for artist in all_artists['items']:\n",
    "        artist_count += 1\n",
    "        # Extract artist genres\n",
    "        artist_id = artist['id']\n",
    "        artist_name = artist['name']\n",
    "        artist_genre = artist['genres']\n",
    "        \n",
    "        print(f\"{artist_count}:{artist_name}\")\n",
    "        print(f\"Genres:{artist_genre}\")\n",
    "        print(\"Updating Genres...\")\n",
    "        print('-----------------------------------------------------------------------')\n",
    "        # Process genres\n",
    "        for genre_name in artist_genre:\n",
    "            genre_id = df_genre.filter(col(\"Name\") == genre_name).select(\"GenreID\").collect()[0][0]\n",
    "            max_artist_genre_id += 1\n",
    "            artist_genre_id = max_artist_genre_id \n",
    "            artist_genre_data.append((artist_genre_id, artist_id, genre_id))\n",
    "\n",
    "df_artist_genre = df_artist_genre.union(spark.createDataFrame(artist_genre_data, schema=artist_genre_schema))\n",
    "df_artist_genre.show()\n",
    "row_count = df_artist_genre.count()\n",
    "print(f\"Number of rows in df_artist_genre: {row_count}\")"
   ]
  },
  {
   "cell_type": "code",
   "execution_count": null,
   "metadata": {
    "application/vnd.databricks.v1+cell": {
     "cellMetadata": {
      "byteLimit": 2048000,
      "rowLimit": 10000
     },
     "inputWidgets": {},
     "nuid": "2948d42b-54f8-4532-a611-35dd3cc3976d",
     "showTitle": false,
     "title": ""
    }
   },
   "outputs": [],
   "source": [
    "# Save processed-genre-data to CSV\n",
    "df_genre.write.mode(\"overwrite\").csv(\"/mnt/processed-data/processed-genre-data\")"
   ]
  },
  {
   "cell_type": "code",
   "execution_count": null,
   "metadata": {
    "application/vnd.databricks.v1+cell": {
     "cellMetadata": {
      "byteLimit": 2048000,
      "rowLimit": 10000
     },
     "inputWidgets": {},
     "nuid": "6187702d-8049-41f0-a12a-2cac985b7535",
     "showTitle": false,
     "title": ""
    }
   },
   "outputs": [],
   "source": [
    "# Save processed-artists-data to CSV\n",
    "df_artist.write.mode(\"overwrite\").csv(\"/mnt/processed-data/processed-artists-data\")"
   ]
  },
  {
   "cell_type": "code",
   "execution_count": null,
   "metadata": {
    "application/vnd.databricks.v1+cell": {
     "cellMetadata": {
      "byteLimit": 2048000,
      "rowLimit": 10000
     },
     "inputWidgets": {},
     "nuid": "03c4438d-dab2-4197-96af-1b715ab326d4",
     "showTitle": false,
     "title": ""
    }
   },
   "outputs": [],
   "source": [
    "# Save processed-artists_genre-data to CSV\n",
    "df_artist_genre.write.mode(\"overwrite\").csv(\"/mnt/processed-data/processed-artists_genre-data\")"
   ]
  },
  {
   "cell_type": "code",
   "execution_count": null,
   "metadata": {
    "application/vnd.databricks.v1+cell": {
     "cellMetadata": {
      "byteLimit": 2048000,
      "rowLimit": 10000
     },
     "inputWidgets": {},
     "nuid": "f119ea2f-0c82-4f0e-94d2-2b3cf91728bf",
     "showTitle": false,
     "title": ""
    }
   },
   "outputs": [
    {
     "name": "stdout",
     "output_type": "stream",
     "text": [
      "+---+--------+-------+\n",
      "| ID|ArtistID|GenreID|\n",
      "+---+--------+-------+\n",
      "+---+--------+-------+\n",
      "\n"
     ]
    }
   ],
   "source": [
    "#check for duplicates \n",
    "duplicates = df_artist_genre.subtract(df_artist_genre.dropDuplicates())\n",
    "duplicates.show()\n"
   ]
  },
  {
   "cell_type": "code",
   "execution_count": null,
   "metadata": {
    "application/vnd.databricks.v1+cell": {
     "cellMetadata": {
      "byteLimit": 2048000,
      "rowLimit": 10000
     },
     "inputWidgets": {},
     "nuid": "c8f96c9d-4fd6-4957-bea7-8d63a2add18d",
     "showTitle": false,
     "title": ""
    }
   },
   "outputs": [
    {
     "name": "stdout",
     "output_type": "stream",
     "text": [
      "+-------+----+\n",
      "|GenreID|Name|\n",
      "+-------+----+\n",
      "+-------+----+\n",
      "\n"
     ]
    }
   ],
   "source": [
    "\n",
    "duplicates = df_genre.subtract(df_genre.dropDuplicates())\n",
    "duplicates.show()"
   ]
  },
  {
   "cell_type": "code",
   "execution_count": null,
   "metadata": {
    "application/vnd.databricks.v1+cell": {
     "cellMetadata": {
      "byteLimit": 2048000,
      "rowLimit": 10000
     },
     "inputWidgets": {},
     "nuid": "74f8aad0-5c45-4eee-b4ed-a3d7357b2b71",
     "showTitle": false,
     "title": ""
    }
   },
   "outputs": [
    {
     "name": "stdout",
     "output_type": "stream",
     "text": [
      "+--------+----+---------+\n",
      "|ArtistID|Name|Followers|\n",
      "+--------+----+---------+\n",
      "+--------+----+---------+\n",
      "\n"
     ]
    }
   ],
   "source": [
    "duplicates = df_artist.subtract(df_artist.dropDuplicates())\n",
    "duplicates.show()"
   ]
  }
 ],
 "metadata": {
  "application/vnd.databricks.v1+notebook": {
   "dashboards": [],
   "environmentMetadata": null,
   "language": "python",
   "notebookMetadata": {
    "pythonIndentUnit": 4
   },
   "notebookName": "Transformed-Followedartists-data",
   "widgets": {}
  },
  "language_info": {
   "name": "python"
  }
 },
 "nbformat": 4,
 "nbformat_minor": 0
}
